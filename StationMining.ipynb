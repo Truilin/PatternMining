{
 "cells": [
  {
   "cell_type": "code",
   "execution_count": 1,
   "metadata": {
    "collapsed": true
   },
   "outputs": [],
   "source": [
    "import jieba"
   ]
  },
  {
   "cell_type": "code",
   "execution_count": 29,
   "metadata": {
    "collapsed": false
   },
   "outputs": [
    {
     "name": "stdout",
     "output_type": "stream",
     "text": [
      "285\n"
     ]
    }
   ],
   "source": [
    "busStation = []\n",
    "file_object = open('busStation.txt')  #汽车站\n",
    "\n",
    "for line in file_object:  \n",
    "    busStation.append(line.rstrip( ))\n",
    "    \n",
    "file_object.close()\n",
    "\n",
    "busStationDic = {}\n",
    "\n",
    "for l in busStation:\n",
    "    array=jieba.cut(l,cut_all=False)\n",
    "    for j in array:\n",
    "        if not busStationDic.has_key(j):\n",
    "            busStationDic[j]=0\n",
    "        busStationDic[j]+=1\n",
    "\n",
    "\n",
    "print len(busStationDic)\n",
    "\n",
    "sort = sorted(busStationDic.iteritems(), key=lambda d:d[1], reverse = True )  #将分词后的文件按词频倒叙输出\n",
    "\n",
    "# for l in sort:\n",
    "#     print l[0],l[1]"
   ]
  },
  {
   "cell_type": "code",
   "execution_count": 30,
   "metadata": {
    "collapsed": false
   },
   "outputs": [
    {
     "name": "stdout",
     "output_type": "stream",
     "text": [
      "353\n"
     ]
    }
   ],
   "source": [
    "TrainStation = []\n",
    "file_object = open('TrainStation.txt')  #汽车站\n",
    "\n",
    "for line in file_object:  \n",
    "    l = line.rstrip( )\n",
    "    #print ' '.join(l.split(','))   \n",
    "    for i in l.split(','):\n",
    "        TrainStation.append(i)\n",
    "file_object.close()\n",
    "\n",
    "TrainStationDic = {}\n",
    "\n",
    "for l in TrainStation:\n",
    "    array=jieba.cut(l,cut_all=False)\n",
    "    for j in array:\n",
    "        if not TrainStationDic.has_key(j):\n",
    "            TrainStationDic[j]=0\n",
    "        TrainStationDic[j]+=1\n",
    "\n",
    "\n",
    "print len(TrainStationDic)\n",
    "\n",
    "sort = sorted(TrainStationDic.iteritems(), key=lambda d:d[1], reverse = True )  #将分词后的文件按词频倒叙输出\n",
    "\n",
    "# for l in sort:\n",
    "#     print l[0],l[1]"
   ]
  }
 ],
 "metadata": {
  "kernelspec": {
   "display_name": "Python 2",
   "language": "python",
   "name": "python2"
  },
  "language_info": {
   "codemirror_mode": {
    "name": "ipython",
    "version": 2
   },
   "file_extension": ".py",
   "mimetype": "text/x-python",
   "name": "python",
   "nbconvert_exporter": "python",
   "pygments_lexer": "ipython2",
   "version": "2.7.10"
  }
 },
 "nbformat": 4,
 "nbformat_minor": 0
}
